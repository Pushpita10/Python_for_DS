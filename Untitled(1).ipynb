{
  "nbformat": 4,
  "nbformat_minor": 0,
  "metadata": {
    "colab": {
      "name": "Untitled",
      "provenance": [],
      "collapsed_sections": [],
      "toc_visible": true
    },
    "kernelspec": {
      "name": "python3",
      "display_name": "Python 3"
    }
  },
  "cells": [
    {
      "cell_type": "markdown",
      "metadata": {
        "id": "FT4o9luhfHTW",
        "colab_type": "text"
      },
      "source": [
        "# **Language Translator**\n",
        "\n",
        "\n",
        "## Note: You must obtain the API keys and enpoints to complete the lab."
      ]
    },
    {
      "cell_type": "code",
      "metadata": {
        "id": "Dfc4L4Kf_190",
        "colab_type": "code",
        "colab": {
          "base_uri": "https://localhost:8080/",
          "height": 593
        },
        "outputId": "a29cb2ca-eba3-44e2-a023-53aa9919e3e2"
      },
      "source": [
        "#you will need the following library \n",
        "!pip install ibm_watson wget"
      ],
      "execution_count": 1,
      "outputs": [
        {
          "output_type": "stream",
          "text": [
            "Collecting ibm_watson\n",
            "\u001b[?25l  Downloading https://files.pythonhosted.org/packages/36/01/a05ed4557dbeebd95b3dcda2d01ae66f94b1aa4700bc4a8a8713c77cfeda/ibm-watson-4.4.1.tar.gz (366kB)\n",
            "\r\u001b[K     |█                               | 10kB 18.4MB/s eta 0:00:01\r\u001b[K     |█▉                              | 20kB 3.2MB/s eta 0:00:01\r\u001b[K     |██▊                             | 30kB 4.0MB/s eta 0:00:01\r\u001b[K     |███▋                            | 40kB 4.0MB/s eta 0:00:01\r\u001b[K     |████▌                           | 51kB 3.7MB/s eta 0:00:01\r\u001b[K     |█████▍                          | 61kB 4.0MB/s eta 0:00:01\r\u001b[K     |██████▎                         | 71kB 4.5MB/s eta 0:00:01\r\u001b[K     |███████▏                        | 81kB 4.9MB/s eta 0:00:01\r\u001b[K     |████████                        | 92kB 5.2MB/s eta 0:00:01\r\u001b[K     |█████████                       | 102kB 4.9MB/s eta 0:00:01\r\u001b[K     |█████████▉                      | 112kB 4.9MB/s eta 0:00:01\r\u001b[K     |██████████▊                     | 122kB 4.9MB/s eta 0:00:01\r\u001b[K     |███████████▋                    | 133kB 4.9MB/s eta 0:00:01\r\u001b[K     |████████████▌                   | 143kB 4.9MB/s eta 0:00:01\r\u001b[K     |█████████████▍                  | 153kB 4.9MB/s eta 0:00:01\r\u001b[K     |██████████████▎                 | 163kB 4.9MB/s eta 0:00:01\r\u001b[K     |███████████████▏                | 174kB 4.9MB/s eta 0:00:01\r\u001b[K     |████████████████                | 184kB 4.9MB/s eta 0:00:01\r\u001b[K     |█████████████████               | 194kB 4.9MB/s eta 0:00:01\r\u001b[K     |█████████████████▉              | 204kB 4.9MB/s eta 0:00:01\r\u001b[K     |██████████████████▊             | 215kB 4.9MB/s eta 0:00:01\r\u001b[K     |███████████████████▊            | 225kB 4.9MB/s eta 0:00:01\r\u001b[K     |████████████████████▋           | 235kB 4.9MB/s eta 0:00:01\r\u001b[K     |█████████████████████▌          | 245kB 4.9MB/s eta 0:00:01\r\u001b[K     |██████████████████████▍         | 256kB 4.9MB/s eta 0:00:01\r\u001b[K     |███████████████████████▎        | 266kB 4.9MB/s eta 0:00:01\r\u001b[K     |████████████████████████▏       | 276kB 4.9MB/s eta 0:00:01\r\u001b[K     |█████████████████████████       | 286kB 4.9MB/s eta 0:00:01\r\u001b[K     |██████████████████████████      | 296kB 4.9MB/s eta 0:00:01\r\u001b[K     |██████████████████████████▉     | 307kB 4.9MB/s eta 0:00:01\r\u001b[K     |███████████████████████████▊    | 317kB 4.9MB/s eta 0:00:01\r\u001b[K     |████████████████████████████▋   | 327kB 4.9MB/s eta 0:00:01\r\u001b[K     |█████████████████████████████▌  | 337kB 4.9MB/s eta 0:00:01\r\u001b[K     |██████████████████████████████▍ | 348kB 4.9MB/s eta 0:00:01\r\u001b[K     |███████████████████████████████▎| 358kB 4.9MB/s eta 0:00:01\r\u001b[K     |████████████████████████████████| 368kB 4.9MB/s \n",
            "\u001b[?25hCollecting wget\n",
            "  Downloading https://files.pythonhosted.org/packages/47/6a/62e288da7bcda82b935ff0c6cfe542970f04e29c756b0e147251b2fb251f/wget-3.2.zip\n",
            "Requirement already satisfied: requests<3.0,>=2.0 in /usr/local/lib/python3.6/dist-packages (from ibm_watson) (2.23.0)\n",
            "Requirement already satisfied: python_dateutil>=2.5.3 in /usr/local/lib/python3.6/dist-packages (from ibm_watson) (2.8.1)\n",
            "Collecting websocket-client==0.48.0\n",
            "\u001b[?25l  Downloading https://files.pythonhosted.org/packages/8a/a1/72ef9aa26cfe1a75cee09fc1957e4723add9de098c15719416a1ee89386b/websocket_client-0.48.0-py2.py3-none-any.whl (198kB)\n",
            "\r\u001b[K     |█▋                              | 10kB 23.6MB/s eta 0:00:01\r\u001b[K     |███▎                            | 20kB 31.3MB/s eta 0:00:01\r\u001b[K     |█████                           | 30kB 38.4MB/s eta 0:00:01\r\u001b[K     |██████▋                         | 40kB 33.6MB/s eta 0:00:01\r\u001b[K     |████████▎                       | 51kB 22.7MB/s eta 0:00:01\r\u001b[K     |██████████                      | 61kB 25.4MB/s eta 0:00:01\r\u001b[K     |███████████▋                    | 71kB 21.7MB/s eta 0:00:01\r\u001b[K     |█████████████▏                  | 81kB 23.4MB/s eta 0:00:01\r\u001b[K     |██████████████▉                 | 92kB 21.7MB/s eta 0:00:01\r\u001b[K     |████████████████▌               | 102kB 15.5MB/s eta 0:00:01\r\u001b[K     |██████████████████▏             | 112kB 15.5MB/s eta 0:00:01\r\u001b[K     |███████████████████▉            | 122kB 15.5MB/s eta 0:00:01\r\u001b[K     |█████████████████████▌          | 133kB 15.5MB/s eta 0:00:01\r\u001b[K     |███████████████████████▏        | 143kB 15.5MB/s eta 0:00:01\r\u001b[K     |████████████████████████▊       | 153kB 15.5MB/s eta 0:00:01\r\u001b[K     |██████████████████████████▍     | 163kB 15.5MB/s eta 0:00:01\r\u001b[K     |████████████████████████████    | 174kB 15.5MB/s eta 0:00:01\r\u001b[K     |█████████████████████████████▊  | 184kB 15.5MB/s eta 0:00:01\r\u001b[K     |███████████████████████████████▍| 194kB 15.5MB/s eta 0:00:01\r\u001b[K     |████████████████████████████████| 204kB 15.5MB/s \n",
            "\u001b[?25hCollecting ibm_cloud_sdk_core==1.5.1\n",
            "  Downloading https://files.pythonhosted.org/packages/b7/f6/10d5271c807d73d236e6ae07b68035fed78b28b5ab836704d34097af3986/ibm-cloud-sdk-core-1.5.1.tar.gz\n",
            "Requirement already satisfied: idna<3,>=2.5 in /usr/local/lib/python3.6/dist-packages (from requests<3.0,>=2.0->ibm_watson) (2.9)\n",
            "Requirement already satisfied: certifi>=2017.4.17 in /usr/local/lib/python3.6/dist-packages (from requests<3.0,>=2.0->ibm_watson) (2020.4.5.1)\n",
            "Requirement already satisfied: chardet<4,>=3.0.2 in /usr/local/lib/python3.6/dist-packages (from requests<3.0,>=2.0->ibm_watson) (3.0.4)\n",
            "Requirement already satisfied: urllib3!=1.25.0,!=1.25.1,<1.26,>=1.21.1 in /usr/local/lib/python3.6/dist-packages (from requests<3.0,>=2.0->ibm_watson) (1.24.3)\n",
            "Requirement already satisfied: six>=1.5 in /usr/local/lib/python3.6/dist-packages (from python_dateutil>=2.5.3->ibm_watson) (1.12.0)\n",
            "Collecting PyJWT>=1.7.1\n",
            "  Downloading https://files.pythonhosted.org/packages/87/8b/6a9f14b5f781697e51259d81657e6048fd31a113229cf346880bb7545565/PyJWT-1.7.1-py2.py3-none-any.whl\n",
            "Building wheels for collected packages: ibm-watson, wget, ibm-cloud-sdk-core\n",
            "  Building wheel for ibm-watson (setup.py) ... \u001b[?25l\u001b[?25hdone\n",
            "  Created wheel for ibm-watson: filename=ibm_watson-4.4.1-cp36-none-any.whl size=360253 sha256=0ec1ea0f2164edb8bff21f8c6592fe8f6600904523e4b0f77bc66df858d6ea1f\n",
            "  Stored in directory: /root/.cache/pip/wheels/73/21/91/61a59270c329be2edc947c69871c25c50bf7dd87ebbfe07cdc\n",
            "  Building wheel for wget (setup.py) ... \u001b[?25l\u001b[?25hdone\n",
            "  Created wheel for wget: filename=wget-3.2-cp36-none-any.whl size=9682 sha256=8b0d09318dd0df80dc702a183dafb72fdac6f5f4cfb245e62de54006374eb976\n",
            "  Stored in directory: /root/.cache/pip/wheels/40/15/30/7d8f7cea2902b4db79e3fea550d7d7b85ecb27ef992b618f3f\n",
            "  Building wheel for ibm-cloud-sdk-core (setup.py) ... \u001b[?25l\u001b[?25hdone\n",
            "  Created wheel for ibm-cloud-sdk-core: filename=ibm_cloud_sdk_core-1.5.1-cp36-none-any.whl size=44491 sha256=8f01f8a541db9d386253965765caac076244115c7289481c17ff2b01067685b6\n",
            "  Stored in directory: /root/.cache/pip/wheels/6a/42/50/f96888116b329578304f9dda4693cef6f3e76e18272d22cb6c\n",
            "Successfully built ibm-watson wget ibm-cloud-sdk-core\n",
            "Installing collected packages: websocket-client, PyJWT, ibm-cloud-sdk-core, ibm-watson, wget\n",
            "Successfully installed PyJWT-1.7.1 ibm-cloud-sdk-core-1.5.1 ibm-watson-4.4.1 websocket-client-0.48.0 wget-3.2\n"
          ],
          "name": "stdout"
        }
      ]
    },
    {
      "cell_type": "markdown",
      "metadata": {
        "id": "RfvDINexeqnw",
        "colab_type": "text"
      },
      "source": [
        "\n",
        "*   First we import SpeechToTextV1 from ibm_watson.\n",
        "\n"
      ]
    },
    {
      "cell_type": "code",
      "metadata": {
        "id": "V7FE3UZPANmr",
        "colab_type": "code",
        "colab": {}
      },
      "source": [
        "import json"
      ],
      "execution_count": 0,
      "outputs": []
    },
    {
      "cell_type": "code",
      "metadata": {
        "id": "LKheV8GUAtrG",
        "colab_type": "code",
        "colab": {}
      },
      "source": [
        "from ibm_cloud_sdk_core.authenticators import IAMAuthenticator\n"
      ],
      "execution_count": 0,
      "outputs": []
    },
    {
      "cell_type": "markdown",
      "metadata": {
        "id": "-evCIwqHgv0Q",
        "colab_type": "text"
      },
      "source": [
        "\n",
        "\n",
        "* The service endpoint is based on the location of the service instance, we store the information in the variable URL. To find out which URL to use, view the service credentials.\n",
        "\n"
      ]
    },
    {
      "cell_type": "code",
      "metadata": {
        "id": "XJNEBVukBDb0",
        "colab_type": "code",
        "colab": {}
      },
      "source": [
        "url_lt = \"https://api.eu-gb.language-translator.watson.cloud.ibm.com/instances/a281e485-e2f4-4a42-acec-bce44e6bb13f\""
      ],
      "execution_count": 0,
      "outputs": []
    },
    {
      "cell_type": "markdown",
      "metadata": {
        "id": "O3erIQMdhIu_",
        "colab_type": "text"
      },
      "source": [
        "\n",
        "\n",
        "*  You require an API key, and you can obtain the key on the IBM Cloud Dashboard .\n"
      ]
    },
    {
      "cell_type": "code",
      "metadata": {
        "id": "ZwIcieiNBSjc",
        "colab_type": "code",
        "colab": {}
      },
      "source": [
        "apikey_lt = \"tOwYi4E7fLwQTdYoYrPwcOjGE7DOKXDTzWobgIh6MpDn\""
      ],
      "execution_count": 0,
      "outputs": []
    },
    {
      "cell_type": "code",
      "metadata": {
        "id": "W4mN17xvB3V_",
        "colab_type": "code",
        "colab": {}
      },
      "source": [
        "from ibm_watson import SpeechToTextV1"
      ],
      "execution_count": 0,
      "outputs": []
    },
    {
      "cell_type": "markdown",
      "metadata": {
        "id": "2fgokq_HwkoD",
        "colab_type": "text"
      },
      "source": [
        "\n",
        "\n",
        "*   import LanguageTranslatorV3 from ibm_watson.\n",
        "\n"
      ]
    },
    {
      "cell_type": "code",
      "metadata": {
        "id": "kwLS-jUxRBZj",
        "colab_type": "code",
        "colab": {}
      },
      "source": [
        "from ibm_watson import LanguageTranslatorV3"
      ],
      "execution_count": 0,
      "outputs": []
    },
    {
      "cell_type": "markdown",
      "metadata": {
        "id": "IqLYq7gIhslC",
        "colab_type": "text"
      },
      "source": [
        "\n",
        "\n",
        "*   API requests require a version parameter that takes a date in the format version=YYYY-MM-DD. This lab describes the current version of Language Translator, 2018-05-01\n",
        "\n"
      ]
    },
    {
      "cell_type": "code",
      "metadata": {
        "id": "ogqYKhS3RDYO",
        "colab_type": "code",
        "colab": {}
      },
      "source": [
        "version_lt='2018-05-01'"
      ],
      "execution_count": 0,
      "outputs": []
    },
    {
      "cell_type": "markdown",
      "metadata": {
        "id": "Oz0mEE_shoCS",
        "colab_type": "text"
      },
      "source": [
        "\n",
        "\n",
        "*   we create a Language Translator object language_translator:\n"
      ]
    },
    {
      "cell_type": "code",
      "metadata": {
        "id": "oGlpHRJORRYL",
        "colab_type": "code",
        "colab": {
          "base_uri": "https://localhost:8080/",
          "height": 34
        },
        "outputId": "be87eaf3-ccf1-4609-ea2c-60a681bcaf99"
      },
      "source": [
        "authenticator = IAMAuthenticator(apikey_lt)\n",
        "language_translator = LanguageTranslatorV3(version=version_lt,authenticator=authenticator)\n",
        "language_translator.set_service_url(url_lt)\n",
        "language_translator"
      ],
      "execution_count": 41,
      "outputs": [
        {
          "output_type": "execute_result",
          "data": {
            "text/plain": [
              "<ibm_watson.language_translator_v3.LanguageTranslatorV3 at 0x7f939d2ad5f8>"
            ]
          },
          "metadata": {
            "tags": []
          },
          "execution_count": 41
        }
      ]
    },
    {
      "cell_type": "markdown",
      "metadata": {
        "id": "bxNNf8yuzmiB",
        "colab_type": "text"
      },
      "source": [
        "\n",
        "\n",
        "*   We can get a Lists the languages that the service can identify. The method Returns the language code. \n"
      ]
    },
    {
      "cell_type": "code",
      "metadata": {
        "id": "TNpkXfVvRyQt",
        "colab_type": "code",
        "colab": {
          "base_uri": "https://localhost:8080/",
          "height": 459
        },
        "outputId": "e4a4dedb-1510-47a4-deae-e354e60fa601"
      },
      "source": [
        "from pandas.io.json import json_normalize\n",
        "\n",
        "json_normalize(language_translator.list_identifiable_languages().get_result(), \"languages\")"
      ],
      "execution_count": 42,
      "outputs": [
        {
          "output_type": "stream",
          "text": [
            "/usr/local/lib/python3.6/dist-packages/ipykernel_launcher.py:3: FutureWarning: pandas.io.json.json_normalize is deprecated, use pandas.json_normalize instead\n",
            "  This is separate from the ipykernel package so we can avoid doing imports until\n"
          ],
          "name": "stderr"
        },
        {
          "output_type": "execute_result",
          "data": {
            "text/html": [
              "<div>\n",
              "<style scoped>\n",
              "    .dataframe tbody tr th:only-of-type {\n",
              "        vertical-align: middle;\n",
              "    }\n",
              "\n",
              "    .dataframe tbody tr th {\n",
              "        vertical-align: top;\n",
              "    }\n",
              "\n",
              "    .dataframe thead th {\n",
              "        text-align: right;\n",
              "    }\n",
              "</style>\n",
              "<table border=\"1\" class=\"dataframe\">\n",
              "  <thead>\n",
              "    <tr style=\"text-align: right;\">\n",
              "      <th></th>\n",
              "      <th>language</th>\n",
              "      <th>name</th>\n",
              "    </tr>\n",
              "  </thead>\n",
              "  <tbody>\n",
              "    <tr>\n",
              "      <th>0</th>\n",
              "      <td>af</td>\n",
              "      <td>Afrikaans</td>\n",
              "    </tr>\n",
              "    <tr>\n",
              "      <th>1</th>\n",
              "      <td>ar</td>\n",
              "      <td>Arabic</td>\n",
              "    </tr>\n",
              "    <tr>\n",
              "      <th>2</th>\n",
              "      <td>az</td>\n",
              "      <td>Azerbaijani</td>\n",
              "    </tr>\n",
              "    <tr>\n",
              "      <th>3</th>\n",
              "      <td>ba</td>\n",
              "      <td>Bashkir</td>\n",
              "    </tr>\n",
              "    <tr>\n",
              "      <th>4</th>\n",
              "      <td>be</td>\n",
              "      <td>Belarusian</td>\n",
              "    </tr>\n",
              "    <tr>\n",
              "      <th>...</th>\n",
              "      <td>...</td>\n",
              "      <td>...</td>\n",
              "    </tr>\n",
              "    <tr>\n",
              "      <th>70</th>\n",
              "      <td>uk</td>\n",
              "      <td>Ukrainian</td>\n",
              "    </tr>\n",
              "    <tr>\n",
              "      <th>71</th>\n",
              "      <td>ur</td>\n",
              "      <td>Urdu</td>\n",
              "    </tr>\n",
              "    <tr>\n",
              "      <th>72</th>\n",
              "      <td>vi</td>\n",
              "      <td>Vietnamese</td>\n",
              "    </tr>\n",
              "    <tr>\n",
              "      <th>73</th>\n",
              "      <td>zh</td>\n",
              "      <td>Simplified Chinese</td>\n",
              "    </tr>\n",
              "    <tr>\n",
              "      <th>74</th>\n",
              "      <td>zh-TW</td>\n",
              "      <td>Traditional Chinese</td>\n",
              "    </tr>\n",
              "  </tbody>\n",
              "</table>\n",
              "<p>75 rows × 2 columns</p>\n",
              "</div>"
            ],
            "text/plain": [
              "   language                 name\n",
              "0        af            Afrikaans\n",
              "1        ar               Arabic\n",
              "2        az          Azerbaijani\n",
              "3        ba              Bashkir\n",
              "4        be           Belarusian\n",
              "..      ...                  ...\n",
              "70       uk            Ukrainian\n",
              "71       ur                 Urdu\n",
              "72       vi           Vietnamese\n",
              "73       zh   Simplified Chinese\n",
              "74    zh-TW  Traditional Chinese\n",
              "\n",
              "[75 rows x 2 columns]"
            ]
          },
          "metadata": {
            "tags": []
          },
          "execution_count": 42
        }
      ]
    },
    {
      "cell_type": "code",
      "metadata": {
        "id": "JJkKKnQ2TYGK",
        "colab_type": "code",
        "colab": {
          "base_uri": "https://localhost:8080/",
          "height": 208
        },
        "outputId": "b713189f-1133-400b-b6bf-9e3c60de81d6"
      },
      "source": [
        "\n",
        "!wget -O Example1.txt https://s3-api.us-geo.objectstorage.softlayer.net/cf-courses-data/CognitiveClass/PY0101EN/labs/example1.txt"
      ],
      "execution_count": 49,
      "outputs": [
        {
          "output_type": "stream",
          "text": [
            "--2020-05-16 15:37:11--  https://s3-api.us-geo.objectstorage.softlayer.net/cf-courses-data/CognitiveClass/PY0101EN/labs/example1.txt\n",
            "Resolving s3-api.us-geo.objectstorage.softlayer.net (s3-api.us-geo.objectstorage.softlayer.net)... 67.228.254.196\n",
            "Connecting to s3-api.us-geo.objectstorage.softlayer.net (s3-api.us-geo.objectstorage.softlayer.net)|67.228.254.196|:443... connected.\n",
            "HTTP request sent, awaiting response... 200 OK\n",
            "Length: 45 [text/plain]\n",
            "Saving to: ‘Example1.txt’\n",
            "\n",
            "\rExample1.txt          0%[                    ]       0  --.-KB/s               \rExample1.txt        100%[===================>]      45  --.-KB/s    in 0s      \n",
            "\n",
            "2020-05-16 15:37:12 (7.51 MB/s) - ‘Example1.txt’ saved [45/45]\n",
            "\n"
          ],
          "name": "stdout"
        }
      ]
    },
    {
      "cell_type": "code",
      "metadata": {
        "id": "8T2fFKXVTbNT",
        "colab_type": "code",
        "colab": {
          "base_uri": "https://localhost:8080/",
          "height": 69
        },
        "outputId": "ee9ed779-10c6-4781-8125-859c2d8777ba"
      },
      "source": [
        "file1 = \"Example1.txt\"\n",
        "filer = open(file1,\"r\")\n",
        "filew = filer.read()\n",
        "print(filew)"
      ],
      "execution_count": 50,
      "outputs": [
        {
          "output_type": "stream",
          "text": [
            "This is line 1 \n",
            "This is line 2\n",
            "This is line 3\n"
          ],
          "name": "stdout"
        }
      ]
    },
    {
      "cell_type": "markdown",
      "metadata": {
        "id": "RTANH5nv0CeJ",
        "colab_type": "text"
      },
      "source": [
        "\n",
        "*  this will translate the text. The parameter text is the text. Model_id is the type of model we would like to use use we use list the the langwich . In this case, we set it to 'en-es' or English to Spanish. We get a Detailed Response object translation_response\n"
      ]
    },
    {
      "cell_type": "code",
      "metadata": {
        "id": "HtqAN8sSUEYi",
        "colab_type": "code",
        "colab": {
          "base_uri": "https://localhost:8080/",
          "height": 34
        },
        "outputId": "a6c29000-f440-4327-c7ac-fdb83f52da65"
      },
      "source": [
        "translation_response = language_translator.translate(\n",
        "    text=filew, model_id='en-es')\n",
        "translation_response"
      ],
      "execution_count": 64,
      "outputs": [
        {
          "output_type": "execute_result",
          "data": {
            "text/plain": [
              "<ibm_cloud_sdk_core.detailed_response.DetailedResponse at 0x7f939d238668>"
            ]
          },
          "metadata": {
            "tags": []
          },
          "execution_count": 64
        }
      ]
    },
    {
      "cell_type": "markdown",
      "metadata": {
        "id": "E4MbsCMX03Rh",
        "colab_type": "text"
      },
      "source": [
        "\n",
        "\n",
        "*  The result is a dictionary.\n",
        "\n"
      ]
    },
    {
      "cell_type": "code",
      "metadata": {
        "id": "PVIHHAPsV5Rh",
        "colab_type": "code",
        "colab": {
          "base_uri": "https://localhost:8080/",
          "height": 69
        },
        "outputId": "b274a526-84d5-44cf-bc76-23b997d6f2b6"
      },
      "source": [
        "translation=translation_response.get_result()\n",
        "translation"
      ],
      "execution_count": 65,
      "outputs": [
        {
          "output_type": "execute_result",
          "data": {
            "text/plain": [
              "{'character_count': 45,\n",
              " 'translations': [{'translation': 'Esta es la línea 1 \\nEsta es la línea 2\\nEsta es la línea 3'}],\n",
              " 'word_count': 12}"
            ]
          },
          "metadata": {
            "tags": []
          },
          "execution_count": 65
        }
      ]
    },
    {
      "cell_type": "markdown",
      "metadata": {
        "id": "Z5DmKPyV1AMh",
        "colab_type": "text"
      },
      "source": [
        "\n",
        "\n",
        "*   We can obtain the actual translation as a string as follows:"
      ]
    },
    {
      "cell_type": "code",
      "metadata": {
        "id": "NMRE_TkYWDn2",
        "colab_type": "code",
        "colab": {
          "base_uri": "https://localhost:8080/",
          "height": 34
        },
        "outputId": "39427793-0147-4b34-bb68-175de796b014"
      },
      "source": [
        "spanish_translation =translation['translations'][0]['translation']\n",
        "spanish_translation \n"
      ],
      "execution_count": 56,
      "outputs": [
        {
          "output_type": "execute_result",
          "data": {
            "text/plain": [
              "'Esta es la línea 1 \\nEsta es la línea 2\\nEsta es la línea 3'"
            ]
          },
          "metadata": {
            "tags": []
          },
          "execution_count": 56
        }
      ]
    },
    {
      "cell_type": "markdown",
      "metadata": {
        "id": "4tzUP0Be1K63",
        "colab_type": "text"
      },
      "source": [
        "\n",
        "\n",
        "*   We can translate back to English\n",
        "\n"
      ]
    },
    {
      "cell_type": "code",
      "metadata": {
        "id": "YJ7byPnMXHas",
        "colab_type": "code",
        "colab": {}
      },
      "source": [
        "translation_new = language_translator.translate(text=spanish_translation ,model_id='es-en').get_result()"
      ],
      "execution_count": 0,
      "outputs": []
    },
    {
      "cell_type": "markdown",
      "metadata": {
        "id": "0QqrUVqQ1WF9",
        "colab_type": "text"
      },
      "source": [
        "\n",
        "\n",
        "*  We can obtain the actual translation as a string as follows:\n"
      ]
    },
    {
      "cell_type": "code",
      "metadata": {
        "id": "qw6l0kcuXKW4",
        "colab_type": "code",
        "colab": {
          "base_uri": "https://localhost:8080/",
          "height": 34
        },
        "outputId": "f086ae23-b2c6-4023-c1f2-8da5adc852d9"
      },
      "source": [
        "translation_eng=translation_new['translations'][0]['translation']\n",
        "translation_eng"
      ],
      "execution_count": 58,
      "outputs": [
        {
          "output_type": "execute_result",
          "data": {
            "text/plain": [
              "'This is line 1 This is line 2. This is line 3.'"
            ]
          },
          "metadata": {
            "tags": []
          },
          "execution_count": 58
        }
      ]
    },
    {
      "cell_type": "markdown",
      "metadata": {
        "id": "0213PCKq1og5",
        "colab_type": "text"
      },
      "source": [
        "\n",
        "\n",
        "*   We can convert it to french as well:"
      ]
    },
    {
      "cell_type": "code",
      "metadata": {
        "id": "GT4jdWn1XSF4",
        "colab_type": "code",
        "colab": {}
      },
      "source": [
        "French_translation=language_translator.translate(\n",
        "    text=filew , model_id='en-fr').get_result()"
      ],
      "execution_count": 0,
      "outputs": []
    },
    {
      "cell_type": "code",
      "metadata": {
        "id": "AvOlmJclXozj",
        "colab_type": "code",
        "colab": {
          "base_uri": "https://localhost:8080/",
          "height": 34
        },
        "outputId": "3254001c-a459-4912-b21e-3071f13bdc1a"
      },
      "source": [
        "French_translation['translations'][0]['translation']"
      ],
      "execution_count": 67,
      "outputs": [
        {
          "output_type": "execute_result",
          "data": {
            "text/plain": [
              "\"Il s'agit de la ligne 1 \\nIl s'agit de la ligne 2\\nIl s'agit de la ligne 3\""
            ]
          },
          "metadata": {
            "tags": []
          },
          "execution_count": 67
        }
      ]
    },
    {
      "cell_type": "markdown",
      "metadata": {
        "id": "IA6odnVl1tfD",
        "colab_type": "text"
      },
      "source": [
        "\n",
        "\n",
        "*  Converting into Bengali from english\n",
        "\n"
      ]
    },
    {
      "cell_type": "code",
      "metadata": {
        "id": "v2MB-SFOZcN6",
        "colab_type": "code",
        "colab": {}
      },
      "source": [
        "Bengali_translation=language_translator.translate(\n",
        "    text=filew , model_id='en-bn').get_result()"
      ],
      "execution_count": 0,
      "outputs": []
    },
    {
      "cell_type": "code",
      "metadata": {
        "id": "-rkn2hCeaHTP",
        "colab_type": "code",
        "colab": {
          "base_uri": "https://localhost:8080/",
          "height": 34
        },
        "outputId": "42531558-943c-459b-b55a-e0af21c45137"
      },
      "source": [
        "Bengali_translation['translations'][0]['translation']"
      ],
      "execution_count": 71,
      "outputs": [
        {
          "output_type": "execute_result",
          "data": {
            "text/plain": [
              "'এটি লাইন ১ \\nএটি লাইন ২\\nএটি লাইন ৩'"
            ]
          },
          "metadata": {
            "tags": []
          },
          "execution_count": 71
        }
      ]
    },
    {
      "cell_type": "markdown",
      "metadata": {
        "id": "vpv1lsxZ12gJ",
        "colab_type": "text"
      },
      "source": [
        "\n",
        "\n",
        "*  Converting into Urdu from english\n"
      ]
    },
    {
      "cell_type": "code",
      "metadata": {
        "id": "7kaaMl1Ja9w6",
        "colab_type": "code",
        "colab": {}
      },
      "source": [
        "Urdu_translation=language_translator.translate(\n",
        "    text=filew , model_id='en-ur').get_result()"
      ],
      "execution_count": 0,
      "outputs": []
    },
    {
      "cell_type": "code",
      "metadata": {
        "id": "nRWRuhzjbfWg",
        "colab_type": "code",
        "colab": {
          "base_uri": "https://localhost:8080/",
          "height": 34
        },
        "outputId": "827c57c5-62e8-4f9e-a96d-ad144dfd5421"
      },
      "source": [
        "Urdu_translation['translations'][0]['translation']"
      ],
      "execution_count": 73,
      "outputs": [
        {
          "output_type": "execute_result",
          "data": {
            "text/plain": [
              "'یہ لائن 1 ہے. \\nیہ لائن 2 ہے\\nیہ لائن 3 ہے.'"
            ]
          },
          "metadata": {
            "tags": []
          },
          "execution_count": 73
        }
      ]
    },
    {
      "cell_type": "markdown",
      "metadata": {
        "id": "pv0v6dks2KTG",
        "colab_type": "text"
      },
      "source": [
        "\n",
        "*  Converting into Simplified Chinese from english\n",
        "\n"
      ]
    },
    {
      "cell_type": "code",
      "metadata": {
        "id": "eLOnmRjTbxn9",
        "colab_type": "code",
        "colab": {}
      },
      "source": [
        "Simplified_Chinese_translation=language_translator.translate(\n",
        "    text=filew , model_id='en-zh').get_result()"
      ],
      "execution_count": 0,
      "outputs": []
    },
    {
      "cell_type": "code",
      "metadata": {
        "id": "KEU5tfMacTcG",
        "colab_type": "code",
        "colab": {
          "base_uri": "https://localhost:8080/",
          "height": 34
        },
        "outputId": "0d4d8fce-5f12-4f97-d836-ec976d6f5467"
      },
      "source": [
        "Simplified_Chinese_translation['translations'][0]['translation']"
      ],
      "execution_count": 76,
      "outputs": [
        {
          "output_type": "execute_result",
          "data": {
            "text/plain": [
              "'这是第 1 行 \\n这是第 2 行\\n这是第 3 行'"
            ]
          },
          "metadata": {
            "tags": []
          },
          "execution_count": 76
        }
      ]
    },
    {
      "cell_type": "markdown",
      "metadata": {
        "id": "2RBdVcbV2XEb",
        "colab_type": "text"
      },
      "source": [
        "\n",
        "\n",
        "*  Converting into German from english\n"
      ]
    },
    {
      "cell_type": "code",
      "metadata": {
        "id": "4cOX3ynicgJZ",
        "colab_type": "code",
        "colab": {}
      },
      "source": [
        "German_translation=language_translator.translate(\n",
        "    text=filew , model_id='en-de').get_result()"
      ],
      "execution_count": 0,
      "outputs": []
    },
    {
      "cell_type": "code",
      "metadata": {
        "id": "Xaz_3cwBc2Bx",
        "colab_type": "code",
        "colab": {
          "base_uri": "https://localhost:8080/",
          "height": 34
        },
        "outputId": "25e6266a-2847-4453-c6c0-a9ce956effc7"
      },
      "source": [
        "German_translation['translations'][0]['translation']"
      ],
      "execution_count": 80,
      "outputs": [
        {
          "output_type": "execute_result",
          "data": {
            "text/plain": [
              "'Dies ist Zeile 1 \\nDies ist Zeile 2\\nDies ist Zeile 3'"
            ]
          },
          "metadata": {
            "tags": []
          },
          "execution_count": 80
        }
      ]
    },
    {
      "cell_type": "markdown",
      "metadata": {
        "id": "DL7reM0s2byO",
        "colab_type": "text"
      },
      "source": [
        "\n",
        "\n",
        "*  Converting into Gujarati from english\n"
      ]
    },
    {
      "cell_type": "code",
      "metadata": {
        "id": "DMGN1a-NdcTn",
        "colab_type": "code",
        "colab": {}
      },
      "source": [
        "Gujarati_translation=language_translator.translate(\n",
        "    text=filew , model_id='en-gu').get_result()"
      ],
      "execution_count": 0,
      "outputs": []
    },
    {
      "cell_type": "code",
      "metadata": {
        "id": "Jz6tLSDidf3-",
        "colab_type": "code",
        "colab": {
          "base_uri": "https://localhost:8080/",
          "height": 34
        },
        "outputId": "a17cee08-5c57-4525-ee8a-a4361491ed4e"
      },
      "source": [
        "Gujarati_translation['translations'][0]['translation']"
      ],
      "execution_count": 84,
      "outputs": [
        {
          "output_type": "execute_result",
          "data": {
            "text/plain": [
              "'આ લીટી 1 છે \\nઆ લીટી 2 છે\\nઆ લીટી 3 છે'"
            ]
          },
          "metadata": {
            "tags": []
          },
          "execution_count": 84
        }
      ]
    },
    {
      "cell_type": "markdown",
      "metadata": {
        "id": "B4r1aoad2hTb",
        "colab_type": "text"
      },
      "source": [
        "\n",
        "\n",
        "*  Converting into Hindi from english\n"
      ]
    },
    {
      "cell_type": "code",
      "metadata": {
        "id": "Ay_cHRfxd5vY",
        "colab_type": "code",
        "colab": {}
      },
      "source": [
        "Hindi_translation=language_translator.translate(\n",
        "    text=filew , model_id='en-hi').get_result()"
      ],
      "execution_count": 0,
      "outputs": []
    },
    {
      "cell_type": "code",
      "metadata": {
        "id": "73EGLVjxd8Ni",
        "colab_type": "code",
        "colab": {
          "base_uri": "https://localhost:8080/",
          "height": 34
        },
        "outputId": "1afdaaa2-7522-4239-de16-98f378397f18"
      },
      "source": [
        "Hindi_translation['translations'][0]['translation']"
      ],
      "execution_count": 88,
      "outputs": [
        {
          "output_type": "execute_result",
          "data": {
            "text/plain": [
              "'यह पंक्ति 1 है \\nयह पंक्ति 2 है\\nयह लाइन 3 है'"
            ]
          },
          "metadata": {
            "tags": []
          },
          "execution_count": 88
        }
      ]
    },
    {
      "cell_type": "markdown",
      "metadata": {
        "id": "6dmNBWRp2vvU",
        "colab_type": "text"
      },
      "source": [
        "# New Section"
      ]
    }
  ]
}